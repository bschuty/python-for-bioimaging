{
 "cells": [
  {
   "cell_type": "markdown",
   "metadata": {},
   "source": [
    "# Introduction course in Python for Bioimaging "
   ]
  },
  {
   "cell_type": "markdown",
   "metadata": {},
   "source": [
    "# 1 - Part 1: Programming\n",
    "\n",
    "In this part we cover the very basis of programming, defining the data class, operations, boolean types, numerics operators, if senteces and while for loops. \n",
    "\n",
    "### 1.1 - Data class (four types)"
   ]
  },
  {
   "cell_type": "markdown",
   "metadata": {},
   "source": [
    " __1.1.1 numeric__\n",
    " \n",
    "There are three kind of numeric data; intengers, reals (float) and complex same as in mathematics, cannot be a coincidence! "
   ]
  },
  {
   "cell_type": "code",
   "execution_count": 117,
   "metadata": {},
   "outputs": [
    {
     "name": "stdout",
     "output_type": "stream",
     "text": [
      "type a: <class 'int'>\n",
      "type a: <class 'float'>\n",
      "type a: <class 'complex'>\n"
     ]
    }
   ],
   "source": [
    "# Int\n",
    "a = 7\n",
    "print('type a:', type(a))\n",
    "\n",
    "# Float \n",
    "b = 7.83\n",
    "print('type a:', type(b))\n",
    "\n",
    "# complex \n",
    "c = 3 + 2j \n",
    "print('type a:', type(c))"
   ]
  },
  {
   "cell_type": "markdown",
   "metadata": {},
   "source": [
    "__1.1.2 strings__ \n",
    "\n",
    "strings allow us to store sequences of chars, chars are the smallest representations of characters, like letters, symbols, etc. "
   ]
  },
  {
   "cell_type": "code",
   "execution_count": 118,
   "metadata": {},
   "outputs": [
    {
     "name": "stdout",
     "output_type": "stream",
     "text": [
      "char1 is: a <class 'str'>\n",
      "char2 is: abc <class 'str'>\n",
      "char3 is: 3 <class 'str'>\n"
     ]
    }
   ],
   "source": [
    "# example of strings and chars\n",
    "char1 = 'a'\n",
    "print('char1 is:', char1, type(char1))\n",
    "char2 = 'abc'\n",
    "print('char2 is:', char2, type(char2))\n",
    "\n",
    "# it also valid to use the funtion str() to asign the string class to a variable\n",
    "char3 = str(3)\n",
    "print('char3 is:', char3, type(char3))"
   ]
  },
  {
   "cell_type": "markdown",
   "metadata": {},
   "source": [
    "__1.1.3 lists__\n",
    "\n",
    "lists are a set of many variables of differents kind, like chars and numerics."
   ]
  },
  {
   "cell_type": "code",
   "execution_count": 119,
   "metadata": {},
   "outputs": [
    {
     "name": "stdout",
     "output_type": "stream",
     "text": [
      "[1, 2, 3, 'mum', 'dad', 2j, 9.76] type: <class 'list'>\n",
      "list in position 0 is: 1\n"
     ]
    }
   ],
   "source": [
    "# example of a list made of many kind of variables\n",
    "lst = [1, 2, 3, 'mum', 'dad', 2j, 9.76]\n",
    "print(lst, 'type:', type(lst))\n",
    "\n",
    "# it allows us to reach any entry of the list with index with lst[n] being n the nth position starting at 0. \n",
    "print('list in position 0 is:', lst[0])"
   ]
  },
  {
   "cell_type": "code",
   "execution_count": 120,
   "metadata": {},
   "outputs": [
    {
     "name": "stdout",
     "output_type": "stream",
     "text": [
      "1- Original list: [1, 2, 3]\n",
      "2- Append, it adds 4 at the end: [1, 2, 3, 4]\n",
      "3- Insert, insert the given chars: [1, 't', 2, 3, 4]\n",
      "4- Pop, delete the char in the given position: [1, 2, 3, 4]\n",
      "5- Remove, remove the char in the given position: [1, 3, 4]\n"
     ]
    }
   ],
   "source": [
    "# Below are some of the methods we use to manipulate the list:append, copy, insert, remove and pop. \n",
    "\n",
    "lst = [1, 2, 3]\n",
    "print('1- Original list:', lst)\n",
    "\n",
    "lst.append(4)\n",
    "print('2- Append, it adds 4 at the end:', lst)\n",
    "\n",
    "lst.insert(1,'t')\n",
    "print('3- Insert, insert the given chars:', lst)\n",
    "\n",
    "lst.pop(1)\n",
    "print('4- Pop, delete the char in the given position:', lst)\n",
    "\n",
    "lst.remove(2)\n",
    "print('5- Remove, remove the char in the given position:', lst)"
   ]
  },
  {
   "cell_type": "markdown",
   "metadata": {},
   "source": [
    "__1.1.4 dict__\n",
    "\n",
    "There is a dictionary type that allows us to store values whose access can be done throgh a 'key'. \n",
    "We will not deepen on it, just take a look at a simple example:"
   ]
  },
  {
   "cell_type": "code",
   "execution_count": 121,
   "metadata": {},
   "outputs": [
    {
     "name": "stdout",
     "output_type": "stream",
     "text": [
      "The value of the dictionary at key one is: 176\n"
     ]
    }
   ],
   "source": [
    "a = dict(one=176, two=5672, three=453)\n",
    "b = {'one': 1, 'two': 2, 'three': 3}\n",
    "\n",
    "print('The value of the dictionary at key one is:', a['one'])"
   ]
  },
  {
   "cell_type": "markdown",
   "metadata": {},
   "source": [
    "### 1.2 - Operations \n"
   ]
  },
  {
   "cell_type": "markdown",
   "metadata": {},
   "source": [
    "#### 1.2.1 Truth value testing\n",
    "\n",
    "There are two types of boolean values, __Truth or False__, which means an object can represent a binary space, yes or no, 1 or 0 or true or false. By defalt an object is considered true unless it is defined as False or it class is define as false, for instance, empty lists like: '', ( ), [ ], { }, set( ), range(0) or None type. "
   ]
  },
  {
   "cell_type": "code",
   "execution_count": 122,
   "metadata": {},
   "outputs": [
    {
     "name": "stdout",
     "output_type": "stream",
     "text": [
      "Is val1 False ? --> False\n",
      "Is val2 False ? --> True\n",
      "Is val3 False ? --> False\n",
      "Obs: None is take as False but is not the same as false,\n",
      "when use in true value testing is interpretered as false but it keeps being None type\n"
     ]
    }
   ],
   "source": [
    "val1 = 1\n",
    "print('Is val1 False ? -->', val1 == False)\n",
    "val2 = False\n",
    "print('Is val2 False ? -->', val2 == False)\n",
    "val3 = None\n",
    "print('Is val3 False ? -->', val3 == False)\n",
    "\n",
    "print('Obs: None is take as False but is not the same as false,') \n",
    "print('when using true value testing is interpretered as false but it keeps being None type')"
   ]
  },
  {
   "cell_type": "markdown",
   "metadata": {},
   "source": [
    "#### 1.2.2 Boolean and comparison operations \n",
    "There are three kind of boolean operators, ordered in this priority: __NOT__, __AND__ and __OR__.\n",
    "\n",
    "1 - Let x and y be true. So 'not x' is false. 'x and y' is true and 'x or y' is true.\n",
    "2 - If x is true and y is false: 'not y' is true, 'x and y' is false, 'x or y' is true\n",
    "3 - If both are false, 'x and y' is false and 'x or y' is false as well. \n",
    "\n",
    "Exercise: given, x = true, y = false, z = false write if the sentence is true or false."
   ]
  },
  {
   "cell_type": "code",
   "execution_count": 123,
   "metadata": {},
   "outputs": [],
   "source": [
    "x = True\n",
    "y = False\n",
    "z = False"
   ]
  },
  {
   "cell_type": "code",
   "execution_count": 124,
   "metadata": {},
   "outputs": [],
   "source": [
    "A = x and y and not(z)\n",
    "B = x and not y and not z\n",
    "C = not(x and y) or z\n",
    "D = not(y and z) and x or not(z and not x)\n",
    "E = not(y and not x or not (x and z or not x))"
   ]
  },
  {
   "cell_type": "code",
   "execution_count": null,
   "metadata": {},
   "outputs": [],
   "source": [
    "print('A = ', A)\n",
    "print('B = ', B)\n",
    "print('C = ', C)\n",
    "print('D = ', D)\n",
    "print('E = ', E)"
   ]
  },
  {
   "cell_type": "markdown",
   "metadata": {},
   "source": [
    "Comparison operators are:\n",
    "\n",
    "__'<'__ strictly less than\n",
    "\n",
    "__'<='__ less than or equal\n",
    "\n",
    "__'>'__ strictly greater than\n",
    "\n",
    "__'>='__ greater than or equal\n",
    "\n",
    "__'=='__ equal\n",
    "\n",
    "__'!='__ not equal\n",
    "\n",
    "__'is'__ object identity\n",
    "\n",
    "__'is not'__ negated object identity"
   ]
  },
  {
   "cell_type": "markdown",
   "metadata": {},
   "source": [
    "#### 1.2.3 Numeric operations"
   ]
  },
  {
   "cell_type": "code",
   "execution_count": 126,
   "metadata": {},
   "outputs": [
    {
     "name": "stdout",
     "output_type": "stream",
     "text": [
      "1 + 2 =  3\n",
      "5 / 2 =  2.5\n",
      "1 * 2 =  2\n",
      "5 // 2 =  2\n",
      "5 % 2 =  1\n",
      "abs(-6) =  6\n",
      "3 ** 2 =  9\n"
     ]
    }
   ],
   "source": [
    "print('1 + 2 = ', 1+2)\n",
    "print('5 / 2 = ', 5/2) # float division\n",
    "print('1 * 2 = ', 1*2)\n",
    "print('5 // 2 = ', 5//2) # intenger division\n",
    "print('5 % 2 = ', 5%2) # the remaning of the division\n",
    "print('abs(-6) = ', abs(-6)) # the absolute value (module)\n",
    "print('3 ** 2 = ', 3**2) # exponential x^n "
   ]
  },
  {
   "cell_type": "markdown",
   "metadata": {},
   "source": [
    "##### 3 - Conditional setences (If, elif and else)\n",
    "\n"
   ]
  },
  {
   "cell_type": "markdown",
   "metadata": {},
   "source": [
    "##### 4 - Loops sentences (For and While) "
   ]
  },
  {
   "cell_type": "markdown",
   "metadata": {},
   "source": [
    "### REFERENCES\n",
    "\n",
    "###### Sections 1.1 and 1.2: https://docs.python.org/3/library/stdtypes.html#type-objects\n",
    "###### Sections 1.3 "
   ]
  },
  {
   "cell_type": "markdown",
   "metadata": {},
   "source": [
    "# Part 2: Modules and Packages\n",
    "\n",
    "### Scripts, Modules, Packages, and Libraries\n",
    "\n",
    "A script is a Python file that’s intended to be run directly. When you run it, it should do something. This means that scripts will often contain code written outside the scope of any classes or functions.\n",
    "\n",
    "A module is a Python file that’s intended to be imported into scripts or other modules. It often defines members like classes, functions, and variables intended to be used in other files that import it.\n",
    "\n",
    "A package is a collection of related modules that work together to provide certain functionality. These modules are contained within a folder and can be imported just like any other modules. This folder will often contain a special __init__ file that tells Python it’s a package, potentially containing more modules nested within subfolders\n",
    "\n",
    "A library is an umbrella term that loosely means “a bundle of code.” These can have tens or even hundreds of individual modules that can provide a wide range of functionality. Matplotlib is a plotting library. The Python Standard Library contains hundreds of modules for performing common tasks."
   ]
  },
  {
   "cell_type": "markdown",
   "metadata": {},
   "source": [
    "#### Installing packes\n",
    "\n",
    "use __pip3 install + 'the name of the packeage'__ when you need to install a new python package "
   ]
  },
  {
   "cell_type": "code",
   "execution_count": 127,
   "metadata": {},
   "outputs": [],
   "source": [
    "# pip3 install numpy \n",
    "# Use the # before a world or a phrase to comment it, that means the compiler will ignore it."
   ]
  },
  {
   "cell_type": "markdown",
   "metadata": {},
   "source": [
    "#### Importing packes \n",
    "\n",
    "Use the world __import__ to import or call the entire packeage, that means you will import all the modules that this packeage contains. "
   ]
  },
  {
   "cell_type": "code",
   "execution_count": 128,
   "metadata": {},
   "outputs": [],
   "source": [
    "import numpy\n",
    "\n",
    "# You can import the packeage with a shor name which will be useful when you use the packeage many times\n",
    "# the example below imports numpy with the name np, so everytime you need to use a module you just type \n",
    "# np.\"module name\", example np.fft (where fft is the fast fourier transform)\n",
    "\n",
    "import numpy as np"
   ]
  },
  {
   "cell_type": "markdown",
   "metadata": {},
   "source": [
    "# Useful and important packages \n",
    "\n",
    "Following there is a list of common packages that may be useful for data processing, management and visualization. \n"
   ]
  },
  {
   "cell_type": "markdown",
   "metadata": {},
   "source": [
    "### Numpy\n",
    "\n",
    "Numpy is "
   ]
  },
  {
   "cell_type": "code",
   "execution_count": 129,
   "metadata": {},
   "outputs": [
    {
     "name": "stdout",
     "output_type": "stream",
     "text": [
      "Time for array computing: 0.5794010162353516\n"
     ]
    }
   ],
   "source": [
    "# In this example we see the difference in time when operating with lists and arrays\n",
    "import time\n",
    "\n",
    "# define an array from 0 to 1 million, with 1 million entries\n",
    "arr = np.linspace(0, 1, int(10**8))\n",
    "start= time.time()  # register the time when the line is execute\n",
    "b = arr + arr + 2 * arr  # operation with arrays\n",
    "print('Time for array computing:', (time.time() - start)) # show the time in seconds that takes to compute the previous line"
   ]
  },
  {
   "cell_type": "code",
   "execution_count": 130,
   "metadata": {},
   "outputs": [
    {
     "name": "stdout",
     "output_type": "stream",
     "text": [
      "Time for array computing: 8.708213329315186\n"
     ]
    }
   ],
   "source": [
    "# Example using a list \n",
    "a = list(arr) # converts the arr array to list\n",
    "start = time.time()  # register the time when the line is execute\n",
    "c = a + a + 2 * a  # operation with lists\n",
    "print('Time for array computing:', (time.time() - start)) # show the time in seconds that takes to compute the previous line\n",
    "\n",
    "# Examples where there is no enogh memory to allocate the data\n",
    "# arr = np.linspace(0, 1, 10**12)"
   ]
  },
  {
   "cell_type": "code",
   "execution_count": null,
   "metadata": {},
   "outputs": [],
   "source": []
  }
 ],
 "metadata": {
  "kernelspec": {
   "display_name": "Python 3",
   "language": "python",
   "name": "python3"
  },
  "language_info": {
   "codemirror_mode": {
    "name": "ipython",
    "version": 3
   },
   "file_extension": ".py",
   "mimetype": "text/x-python",
   "name": "python",
   "nbconvert_exporter": "python",
   "pygments_lexer": "ipython3",
   "version": "3.7.3"
  }
 },
 "nbformat": 4,
 "nbformat_minor": 2
}
